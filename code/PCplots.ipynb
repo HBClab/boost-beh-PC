{
 "cells": [
  {
   "cell_type": "code",
   "execution_count": 2,
   "metadata": {},
   "outputs": [],
   "source": [
    "import pandas as pd\n",
    "import numpy as np\n",
    "import matplotlib.pyplot as plt\n",
    "import seaborn as sns\n",
    "from math import pi"
   ]
  },
  {
   "cell_type": "code",
   "execution_count": 3,
   "metadata": {},
   "outputs": [],
   "source": [
    "df = pd.read_csv('/Users/zakg04/Documents/HBC_lab/BOOST/Main/TaskLogic/data/test/test-7005/processed/PC/7005_PC_A.csv')\n",
    "\n",
    "test = df[df['condition']=='test']\n"
   ]
  },
  {
   "cell_type": "code",
   "execution_count": 7,
   "metadata": {},
   "outputs": [
    {
     "data": {
      "text/plain": [
       "block_c\n",
       "1    0.954545\n",
       "2    0.950000\n",
       "Name: correct, dtype: float64"
      ]
     },
     "execution_count": 7,
     "metadata": {},
     "output_type": "execute_result"
    }
   ],
   "source": [
    "\n",
    "# Plotting the circular bar graph\n",
    "def plot_circular_bar_graph(percentages, name):\n",
    "    startangle = 90\n",
    "    colors = ['#4393E5', '#43BAE5', '#7AE6EA', '#E5A443']\n",
    "    \n",
    "    # Convert data to fit the polar axis\n",
    "    ys = [i *1.1 for i in range(len(percentages))]   # One bar for each block\n",
    "    left = (startangle * pi * 2) / 360  # This is to control where the bar starts\n",
    "\n",
    "    # Figure and polar axis\n",
    "    fig, ax = plt.subplots(figsize=(6, 6))\n",
    "    ax = plt.subplot(projection='polar')\n",
    "\n",
    "    # Plot bars and points at the end to make them round\n",
    "    for i, (block, percentage) in enumerate(percentages.items()):\n",
    "        ax.barh(ys[i], percentage * 2 * pi, left=left, height=0.5, color=colors[i % len(colors)], label=block)\n",
    "        ax.text(percentage + left + 0.02, ys[i], f'{percentage:.0%}', va='center', ha='left', color='black', fontsize=12)\n",
    "\n",
    "    plt.ylim(-1, len(percentages))\n",
    "\n",
    "    # Custom legend\n",
    "    ax.legend(loc='center', frameon=True) \n",
    "\n",
    "    # Clear ticks and spines\n",
    "    plt.xticks([])\n",
    "    plt.yticks([])\n",
    "    ax.spines.clear()\n",
    "    plt.title(name, fontsize=15, pad=20, color=\"black\")\n",
    "\n",
    "    plt.show()\n",
    "\n",
    "#plot circular graph for correct by block_c\n",
    "correct_by_block = test.groupby('block_c')['correct'].mean()\n",
    "correct_by_block\n",
    "#plot_circular_bar_graph(correct_by_block, 'Correct Rate by Block')\n",
    "\n"
   ]
  },
  {
   "cell_type": "code",
   "execution_count": 5,
   "metadata": {},
   "outputs": [
    {
     "data": {
      "image/png": "[encoded data removed]",
      "text/plain": [
       "<Figure size 720x432 with 1 Axes>"
      ]
     },
     "metadata": {},
     "output_type": "display_data"
    }
   ],
   "source": [
    "#plot response time by block_c as a scatterplot, use transparency to show density and transparent box and whisker plot\n",
    "sns.set(style=\"whitegrid\")\n",
    "sns.set_palette(\"husl\")\n",
    "plt.figure(figsize=(10, 6))\n",
    "sns.boxplot(x='block_c', y='response_time', data=test, showfliers=False)\n",
    "sns.swarmplot(x='block_c', y='response_time', data=test, color=\".25\")\n",
    "plt.title('Response Time by Block')\n",
    "plt.show()\n"
   ]
  },
  {
   "cell_type": "code",
   "execution_count": null,
   "metadata": {},
   "outputs": [],
   "source": []
  }
 ],
 "metadata": {
  "kernelspec": {
   "display_name": "tensorflow",
   "language": "python",
   "name": "python3"
  },
  "language_info": {
   "codemirror_mode": {
    "name": "ipython",
    "version": 3
   },
   "file_extension": ".py",
   "mimetype": "text/x-python",
   "name": "python",
   "nbconvert_exporter": "python",
   "pygments_lexer": "ipython3",
   "version": "3.8.13"
  }
 },
 "nbformat": 4,
 "nbformat_minor": 2
}
